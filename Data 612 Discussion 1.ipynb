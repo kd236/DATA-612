{
 "cells": [
  {
   "metadata": {},
   "cell_type": "markdown",
   "source": [
    "#### Data 612\n",
    "#### Discussion 1\n",
    "#### Kevin DiPerna\n",
    "\n",
    "\n",
    "\n",
    "\n",
    "\n",
    "\n"
   ],
   "id": "9ca1f3bed9d4be09"
  },
  {
   "metadata": {},
   "cell_type": "markdown",
   "source": [
    "Part 1\n",
    "\n",
    "I think Netflix uses collaborative filtering because it shows you what is popular right now and also recommends new pieces after you've watched something that is similar to it. So it seems like it gives you a good combination of here is what other people are liking and enjoying and here is something else you might like based on your previous history. I believe Netflix does a pretty job on its recommendations, and they are usually pretty spot on in terms of similarity and quality. It's not always going to be perfect or something you really like, but it's a good recommendation for you to check out. It sometimes can miss out on less popular films though that you might enjoy.\n",
    "\n",
    "Part 2\n",
    "\n",
    "This is definitely a problem recommender systems are vulnerable too. Perhaps in this case, users should not be allowed to review films on IMDb website until it is released publicly. And to register an account with IMDd website and not allow any anonymous person to write a review. I imagine it would be hard to filter out reviews that are fueled by hate or disingenuous with reviews that are authentic. Maybe if they all came out one time it would be easy to identify a mass of people working together to bring down the reviews.\n",
    "\n",
    "In other cases of this, I think of a restaurant goes viral on the news or is owned by somebody famous sometimes internet trolls have overwhelmed the Google 5-star reviews. It can be overly positive or negative views by people who have never been to the restaurant. It's hard to manage these reviews because it is an open forum, but I would see if all these reviews came in at one time that is suspicious and should be examined more. Also look at each user's review history and see if this aligns with what they have done before or is it a one-off.\n",
    "\n",
    "\n",
    "\n",
    "\n",
    "\n"
   ],
   "id": "485463bfca09e9e"
  }
 ],
 "metadata": {
  "kernelspec": {
   "display_name": "Python 3",
   "language": "python",
   "name": "python3"
  },
  "language_info": {
   "codemirror_mode": {
    "name": "ipython",
    "version": 2
   },
   "file_extension": ".py",
   "mimetype": "text/x-python",
   "name": "python",
   "nbconvert_exporter": "python",
   "pygments_lexer": "ipython2",
   "version": "2.7.6"
  }
 },
 "nbformat": 4,
 "nbformat_minor": 5
}
