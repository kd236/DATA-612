{
 "cells": [
  {
   "metadata": {},
   "cell_type": "markdown",
   "source": [
    "#### Data 612\n",
    "#### Project 1\n",
    "#### Kevin DiPerna\n",
    "\n",
    "This system recommends movies to users\n",
    "\n",
    "Create my dataset and user item matrix"
   ],
   "id": "9dbd8c7b6b950ccf"
  },
  {
   "metadata": {
    "ExecuteTime": {
     "end_time": "2025-06-09T01:33:19.273435Z",
     "start_time": "2025-06-09T01:33:19.141870Z"
    }
   },
   "cell_type": "code",
   "source": [
    "import pandas as pd\n",
    "import numpy as np\n",
    "\n",
    "data = {\n",
    "    'user': ['Alice', 'Alice', 'Alice', 'Alice', 'Alice',\n",
    "             'Bob', 'Bob', 'Bob', 'Bob', 'Bob',\n",
    "             'Charlie', 'Charlie', 'Charlie', 'Charlie', 'Charlie',\n",
    "             'David', 'David', 'David', 'David', 'David',\n",
    "             'Eve', 'Eve', 'Eve', 'Eve', 'Eve'],\n",
    "    'movie': ['Inception', 'Matrix', 'Avengers', 'Joker', 'Titanic'] * 5,\n",
    "    'rating': [\n",
    "        5, 4, np.nan, 4, np.nan,\n",
    "        3, 5, 4, np.nan, 1,\n",
    "        4, 3, 2, 4, 2,\n",
    "        4, np.nan, 5, np.nan, 4,\n",
    "        np.nan, 3, 4, 2, 5\n",
    "    ]\n",
    "}\n",
    "\n",
    "df = pd.DataFrame(data)\n",
    "\n",
    "# Create user-item matrix\n",
    "user_item_matrix = df.pivot_table(index='user', columns='movie', values='rating')\n",
    "\n",
    "print(user_item_matrix)"
   ],
   "id": "2406758ee12ab649",
   "outputs": [
    {
     "name": "stdout",
     "output_type": "stream",
     "text": [
      "movie    Avengers  Inception  Joker  Matrix  Titanic\n",
      "user                                                \n",
      "Alice         NaN        5.0    4.0     4.0      NaN\n",
      "Bob           4.0        3.0    NaN     5.0      1.0\n",
      "Charlie       2.0        4.0    4.0     3.0      2.0\n",
      "David         5.0        4.0    NaN     NaN      4.0\n",
      "Eve           4.0        NaN    2.0     3.0      5.0\n"
     ]
    }
   ],
   "execution_count": 101
  },
  {
   "metadata": {},
   "cell_type": "markdown",
   "source": "Break into training and test set and find the raw average with training set",
   "id": "e801ec703ddc8d44"
  },
  {
   "metadata": {
    "ExecuteTime": {
     "end_time": "2025-06-09T01:33:22.076216Z",
     "start_time": "2025-06-09T01:33:22.055762Z"
    }
   },
   "cell_type": "code",
   "source": [
    "from sklearn.model_selection import train_test_split\n",
    "\n",
    "df_nonan = df.dropna()\n",
    "\n",
    "train_df, test_df = train_test_split(df_nonan, test_size=0.3, random_state=42)\n",
    "\n",
    "raw_average = train_df['rating'].mean()\n",
    "print(raw_average)"
   ],
   "id": "9d3e41662c7024ef",
   "outputs": [
    {
     "name": "stdout",
     "output_type": "stream",
     "text": [
      "3.5384615384615383\n"
     ]
    }
   ],
   "execution_count": 102
  },
  {
   "metadata": {},
   "cell_type": "markdown",
   "source": "Calculate the RSME for train and test set",
   "id": "cd803f23025a392a"
  },
  {
   "metadata": {
    "ExecuteTime": {
     "end_time": "2025-06-09T01:33:23.882983Z",
     "start_time": "2025-06-09T01:33:23.874937Z"
    }
   },
   "cell_type": "code",
   "source": [
    "train_df['raw average'] = raw_average\n",
    "test_df['raw average'] = raw_average\n",
    "\n",
    "from sklearn.metrics import mean_squared_error\n",
    "import numpy as np\n",
    "\n",
    "train_rmse = np.sqrt(mean_squared_error(train_df['rating'], train_df['raw average']))\n",
    "\n",
    "test_rmse = np.sqrt(mean_squared_error(test_df['rating'], test_df['raw average']))\n",
    "\n",
    "print(f\"Train RMSE (baseline): {train_rmse}\")\n",
    "print(f\"Test RMSE (baseline): {test_rmse}\")"
   ],
   "id": "7e30925c90d87b0b",
   "outputs": [
    {
     "name": "stdout",
     "output_type": "stream",
     "text": [
      "Train RMSE (baseline): 1.2162606385262997\n",
      "Test RMSE (baseline): 0.9514859136040755\n"
     ]
    }
   ],
   "execution_count": 103
  },
  {
   "metadata": {},
   "cell_type": "markdown",
   "source": "Find the average rating for each user and movie. Find the bias and baseline predictor",
   "id": "20879bdd1b51bd78"
  },
  {
   "metadata": {
    "ExecuteTime": {
     "end_time": "2025-06-09T01:33:26.539006Z",
     "start_time": "2025-06-09T01:33:26.513656Z"
    }
   },
   "cell_type": "code",
   "source": [
    "\n",
    "user_avg = train_df.groupby('user')['rating'].mean().rename('user_avg')\n",
    "user_avg_df = user_avg.reset_index(name='user_avg')\n",
    "user_avg_df['bias'] = user_avg_df['user_avg'] - 3.5384615384615383\n",
    "\n",
    "# Average rating for each movie\n",
    "movie_avg = train_df.groupby('movie')['rating'].mean().rename('movie_avg')\n",
    "movie_avg_df = movie_avg.reset_index(name='movie_avg')\n",
    "movie_avg_df['bias'] = movie_avg_df['movie_avg'] - 3.5384615384615383\n"
   ],
   "id": "ad3e7cc263618a36",
   "outputs": [],
   "execution_count": 104
  },
  {
   "metadata": {
    "ExecuteTime": {
     "end_time": "2025-06-08T17:27:25.929207Z",
     "start_time": "2025-06-08T17:27:25.913460Z"
    }
   },
   "cell_type": "code",
   "source": [
    "baseline_df = user_avg_df[['user', 'bias']].merge(\n",
    "    movie_avg_df[['movie', 'bias']], how='cross'\n",
    ")\n",
    "\n",
    "raw_average = 3.5384615384615383\n",
    "baseline_df['baseline_pred'] = raw_average + baseline_df['bias_x'] + baseline_df['bias_y']\n",
    "\n",
    "# Step 3: Rename columns for clarity (optional)\n",
    "baseline_df = baseline_df.rename(columns={\n",
    "    'bias_x': 'user_bias',\n",
    "    'bias_y': 'movie_bias'\n",
    "})\n",
    "\n",
    "baseline_df.head(10)"
   ],
   "id": "3d9dddd0f8940445",
   "outputs": [
    {
     "data": {
      "text/plain": [
       "    user  user_bias      movie  movie_bias  baseline_pred\n",
       "0  Alice   0.461538   Avengers   -0.038462       3.961538\n",
       "1  Alice   0.461538  Inception    0.128205       4.128205\n",
       "2  Alice   0.461538      Joker   -0.205128       3.794872\n",
       "3  Alice   0.461538     Matrix    0.461538       4.461538\n",
       "4  Alice   0.461538    Titanic   -0.205128       3.794872\n",
       "5    Bob  -0.538462   Avengers   -0.038462       2.961538\n",
       "6    Bob  -0.538462  Inception    0.128205       3.128205\n",
       "7    Bob  -0.538462      Joker   -0.205128       2.794872\n",
       "8    Bob  -0.538462     Matrix    0.461538       3.461538\n",
       "9    Bob  -0.538462    Titanic   -0.205128       2.794872"
      ],
      "text/html": [
       "<div>\n",
       "<style scoped>\n",
       "    .dataframe tbody tr th:only-of-type {\n",
       "        vertical-align: middle;\n",
       "    }\n",
       "\n",
       "    .dataframe tbody tr th {\n",
       "        vertical-align: top;\n",
       "    }\n",
       "\n",
       "    .dataframe thead th {\n",
       "        text-align: right;\n",
       "    }\n",
       "</style>\n",
       "<table border=\"1\" class=\"dataframe\">\n",
       "  <thead>\n",
       "    <tr style=\"text-align: right;\">\n",
       "      <th></th>\n",
       "      <th>user</th>\n",
       "      <th>user_bias</th>\n",
       "      <th>movie</th>\n",
       "      <th>movie_bias</th>\n",
       "      <th>baseline_pred</th>\n",
       "    </tr>\n",
       "  </thead>\n",
       "  <tbody>\n",
       "    <tr>\n",
       "      <th>0</th>\n",
       "      <td>Alice</td>\n",
       "      <td>0.461538</td>\n",
       "      <td>Avengers</td>\n",
       "      <td>-0.038462</td>\n",
       "      <td>3.961538</td>\n",
       "    </tr>\n",
       "    <tr>\n",
       "      <th>1</th>\n",
       "      <td>Alice</td>\n",
       "      <td>0.461538</td>\n",
       "      <td>Inception</td>\n",
       "      <td>0.128205</td>\n",
       "      <td>4.128205</td>\n",
       "    </tr>\n",
       "    <tr>\n",
       "      <th>2</th>\n",
       "      <td>Alice</td>\n",
       "      <td>0.461538</td>\n",
       "      <td>Joker</td>\n",
       "      <td>-0.205128</td>\n",
       "      <td>3.794872</td>\n",
       "    </tr>\n",
       "    <tr>\n",
       "      <th>3</th>\n",
       "      <td>Alice</td>\n",
       "      <td>0.461538</td>\n",
       "      <td>Matrix</td>\n",
       "      <td>0.461538</td>\n",
       "      <td>4.461538</td>\n",
       "    </tr>\n",
       "    <tr>\n",
       "      <th>4</th>\n",
       "      <td>Alice</td>\n",
       "      <td>0.461538</td>\n",
       "      <td>Titanic</td>\n",
       "      <td>-0.205128</td>\n",
       "      <td>3.794872</td>\n",
       "    </tr>\n",
       "    <tr>\n",
       "      <th>5</th>\n",
       "      <td>Bob</td>\n",
       "      <td>-0.538462</td>\n",
       "      <td>Avengers</td>\n",
       "      <td>-0.038462</td>\n",
       "      <td>2.961538</td>\n",
       "    </tr>\n",
       "    <tr>\n",
       "      <th>6</th>\n",
       "      <td>Bob</td>\n",
       "      <td>-0.538462</td>\n",
       "      <td>Inception</td>\n",
       "      <td>0.128205</td>\n",
       "      <td>3.128205</td>\n",
       "    </tr>\n",
       "    <tr>\n",
       "      <th>7</th>\n",
       "      <td>Bob</td>\n",
       "      <td>-0.538462</td>\n",
       "      <td>Joker</td>\n",
       "      <td>-0.205128</td>\n",
       "      <td>2.794872</td>\n",
       "    </tr>\n",
       "    <tr>\n",
       "      <th>8</th>\n",
       "      <td>Bob</td>\n",
       "      <td>-0.538462</td>\n",
       "      <td>Matrix</td>\n",
       "      <td>0.461538</td>\n",
       "      <td>3.461538</td>\n",
       "    </tr>\n",
       "    <tr>\n",
       "      <th>9</th>\n",
       "      <td>Bob</td>\n",
       "      <td>-0.538462</td>\n",
       "      <td>Titanic</td>\n",
       "      <td>-0.205128</td>\n",
       "      <td>2.794872</td>\n",
       "    </tr>\n",
       "  </tbody>\n",
       "</table>\n",
       "</div>"
      ]
     },
     "execution_count": 97,
     "metadata": {},
     "output_type": "execute_result"
    }
   ],
   "execution_count": 97
  },
  {
   "metadata": {},
   "cell_type": "markdown",
   "source": "Reformat the dataframes",
   "id": "3030001827f5c6ae"
  },
  {
   "metadata": {
    "ExecuteTime": {
     "end_time": "2025-06-08T17:27:29.831465Z",
     "start_time": "2025-06-08T17:27:29.816310Z"
    }
   },
   "cell_type": "code",
   "source": [
    "train_df = train_df.merge(\n",
    "    baseline_df[['user', 'movie', 'baseline_pred']],\n",
    "    on=['user', 'movie'],\n",
    "    how='left'\n",
    ")\n",
    "print(train_df)"
   ],
   "id": "d3c5e786048792ea",
   "outputs": [
    {
     "name": "stdout",
     "output_type": "stream",
     "text": [
      "       user      movie  rating  raw average  baseline_pred\n",
      "0       Bob  Inception     3.0     3.538462       3.128205\n",
      "1     David   Avengers     5.0     3.538462       4.294872\n",
      "2       Eve     Matrix     3.0     3.538462       3.794872\n",
      "3       Eve      Joker     2.0     3.538462       3.128205\n",
      "4     Alice      Joker     4.0     3.538462       3.794872\n",
      "5   Charlie   Avengers     2.0     3.538462       3.294872\n",
      "6       Eve    Titanic     5.0     3.538462       3.128205\n",
      "7       Bob     Matrix     5.0     3.538462       3.461538\n",
      "8     David  Inception     4.0     3.538462       4.461538\n",
      "9   Charlie  Inception     4.0     3.538462       3.461538\n",
      "10  Charlie      Joker     4.0     3.538462       3.128205\n",
      "11    David    Titanic     4.0     3.538462       4.128205\n",
      "12      Bob    Titanic     1.0     3.538462       2.794872\n"
     ]
    }
   ],
   "execution_count": 98
  },
  {
   "metadata": {
    "ExecuteTime": {
     "end_time": "2025-06-08T17:29:12.831487Z",
     "start_time": "2025-06-08T17:29:12.819808Z"
    }
   },
   "cell_type": "code",
   "source": [
    "test_df = test_df.merge(\n",
    "    baseline_df[['user', 'movie', 'baseline_pred']],\n",
    "    on=['user', 'movie'],\n",
    "    how='left'\n",
    ")\n",
    "print(test_df)"
   ],
   "id": "3dc943f1b02e7409",
   "outputs": [
    {
     "name": "stdout",
     "output_type": "stream",
     "text": [
      "      user      movie  rating  raw average  baseline_pred\n",
      "0    Alice  Inception     5.0     3.538462       4.128205\n",
      "1      Bob   Avengers     4.0     3.538462       2.961538\n",
      "2  Charlie    Titanic     2.0     3.538462       3.128205\n",
      "3    Alice     Matrix     4.0     3.538462       4.461538\n",
      "4  Charlie     Matrix     3.0     3.538462       3.794872\n",
      "5      Eve   Avengers     4.0     3.538462       3.294872\n"
     ]
    }
   ],
   "execution_count": 99
  },
  {
   "metadata": {},
   "cell_type": "markdown",
   "source": "Find the training and test RSME",
   "id": "8ffb0842a79dabc2"
  },
  {
   "metadata": {
    "ExecuteTime": {
     "end_time": "2025-06-08T17:37:00.323839Z",
     "start_time": "2025-06-08T17:37:00.298737Z"
    }
   },
   "cell_type": "code",
   "source": [
    "train_rmse = np.sqrt(mean_squared_error(train_df['rating'], train_df['baseline_pred']))\n",
    "\n",
    "test_rmse = np.sqrt(mean_squared_error(test_df['rating'], test_df['baseline_pred']))\n",
    "\n",
    "print(f\"Train RMSE (baseline predictor): {train_rmse:.4f}\")\n",
    "print(f\"Test RMSE (baseline predictor): {test_rmse:.4f}\")"
   ],
   "id": "2766f621e1a80308",
   "outputs": [
    {
     "name": "stdout",
     "output_type": "stream",
     "text": [
      "Train RMSE (baseline predictor): 1.0564\n",
      "Test RMSE (baseline predictor): 0.8615\n"
     ]
    }
   ],
   "execution_count": 100
  },
  {
   "metadata": {},
   "cell_type": "markdown",
   "source": "Summary - The baseline predictor RMSE for the train set is 1.0564 and for the test set is 0.8615 suggesting that the test set is better at predicting more accurately. The baseline predictors RMSE is lower than the RMSE using raw average which is expected since we are factoring in user and movie bias.",
   "id": "705e0349e97ebb8d"
  }
 ],
 "metadata": {
  "kernelspec": {
   "display_name": "Python 3",
   "language": "python",
   "name": "python3"
  },
  "language_info": {
   "codemirror_mode": {
    "name": "ipython",
    "version": 2
   },
   "file_extension": ".py",
   "mimetype": "text/x-python",
   "name": "python",
   "nbconvert_exporter": "python",
   "pygments_lexer": "ipython2",
   "version": "2.7.6"
  }
 },
 "nbformat": 4,
 "nbformat_minor": 5
}
