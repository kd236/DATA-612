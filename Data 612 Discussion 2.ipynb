{
 "cells": [
  {
   "metadata": {},
   "cell_type": "markdown",
   "source": [
    "#### Data 612\n",
    "#### Discussion 2\n",
    "#### Kevin DiPerna\n",
    "\n"
   ],
   "id": "b8a40568c5683742"
  },
  {
   "metadata": {},
   "cell_type": "markdown",
   "source": [
    "In this video, Music Recommendations at Scale with Spark, Christopher Johnson from Spotify explores how they built their large scale music recommendation system using collaborative filtering, specifically focusing on implicit feedback matrix factorization like if a user has or has not listened to a song before. He explains how they translate listening histories into user-item interaction matrices, such when a user streams a track becomes it is a positive signal), and then decompose this matrix into latent user and track vectors using Alternating Least Squares (ALS). Initially demonstrated with Python, NumPy, and SciPy, he then shows how they scaled this to handle 20 million users and 24 million tracks using Hadoop and Spark. The key innovation: harnessing Spark’s in-memory computing to iterate efficiently over huge datasets, minimizing I/O overhead compared to traditional MapReduce workflows.\n",
    "\n",
    "Johnson outlines the practical pipeline at Spotify: offline generation of user and item embeddings via ALS, followed by real-time “fold-in” to quickly compute recommendations for new users or fresh data. He highlights challenges like sparse interaction data (most users stream only a fraction of tracks) and the importance of balancing popularity, relevance, and diversity in recommendations. Finally, he touches on evolving towards hybrid models—integrating audio content analysis, playlist text embeddings, and Word2Vec-style representations to capture nuances beyond collaborative signals.\n",
    "\n"
   ],
   "id": "d95de3f9c7c06507"
  },
  {
   "metadata": {},
   "cell_type": "markdown",
   "source": "",
   "id": "396a12b88418a088"
  }
 ],
 "metadata": {
  "kernelspec": {
   "display_name": "Python 3",
   "language": "python",
   "name": "python3"
  },
  "language_info": {
   "codemirror_mode": {
    "name": "ipython",
    "version": 2
   },
   "file_extension": ".py",
   "mimetype": "text/x-python",
   "name": "python",
   "nbconvert_exporter": "python",
   "pygments_lexer": "ipython2",
   "version": "2.7.6"
  }
 },
 "nbformat": 4,
 "nbformat_minor": 5
}
